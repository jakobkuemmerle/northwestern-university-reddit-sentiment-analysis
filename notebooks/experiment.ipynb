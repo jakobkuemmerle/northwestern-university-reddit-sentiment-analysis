{
 "cells": [
  {
   "cell_type": "code",
   "execution_count": 6,
   "metadata": {},
   "outputs": [
    {
     "name": "stdout",
     "output_type": "stream",
     "text": [
      "['access', 'accession', 'admission', 'admissioned', 'admissioning', 'admissions', 'admittance', 'entree']\n"
     ]
    },
    {
     "name": "stderr",
     "output_type": "stream",
     "text": [
      "[nltk_data] Downloading package wordnet to\n",
      "[nltk_data]     /Users/lindaliang/nltk_data...\n",
      "[nltk_data]   Package wordnet is already up-to-date!\n",
      "[nltk_data] Downloading package omw-1.4 to\n",
      "[nltk_data]     /Users/lindaliang/nltk_data...\n",
      "[nltk_data]   Package omw-1.4 is already up-to-date!\n"
     ]
    }
   ],
   "source": [
    "import nltk\n",
    "from nltk.corpus import wordnet\n",
    "from nltk.stem import WordNetLemmatizer\n",
    "\n",
    "# Download WordNet data if not already downloaded\n",
    "nltk.download('wordnet')\n",
    "nltk.download('omw-1.4')\n",
    "\n",
    "def generate_similar_words(keyword):\n",
    "    # Initialize WordNet Lemmatizer\n",
    "    lemmatizer = WordNetLemmatizer()\n",
    "    \n",
    "    # Find synonyms using WordNet\n",
    "    synonyms = set()\n",
    "    for syn in wordnet.synsets(keyword):\n",
    "        for lemma in syn.lemmas():\n",
    "            # Exclude compound words or phrases\n",
    "            if \"_\" not in lemma.name() and len(lemma.name().split()) == 1:\n",
    "                synonyms.add(lemma.name())\n",
    "    \n",
    "    # Generate morphological variations\n",
    "    variations = set([\n",
    "        keyword,  # Original word\n",
    "        lemmatizer.lemmatize(keyword, pos='n'),  # Lemma (noun)\n",
    "        lemmatizer.lemmatize(keyword, pos='v'),  # Lemma (verb)\n",
    "        lemmatizer.lemmatize(keyword, pos='a'),  # Lemma (adjective)\n",
    "        f\"{keyword}s\",  # Plural\n",
    "        f\"{keyword}ed\",  # Past tense\n",
    "        f\"{keyword}ing\"  # Present participle\n",
    "    ])\n",
    "    \n",
    "    # Combine and deduplicate\n",
    "    similar_words = sorted(synonyms.union(variations))\n",
    "    return similar_words\n",
    "\n",
    "# Example usage\n",
    "keyword = \"admission\"\n",
    "similar_words = generate_similar_words(keyword)\n",
    "print(similar_words)\n"
   ]
  },
  {
   "cell_type": "code",
   "execution_count": 5,
   "metadata": {},
   "outputs": [
    {
     "data": {
      "text/plain": [
       "['access',\n",
       " 'accession',\n",
       " 'admission',\n",
       " 'admission_charge',\n",
       " 'admission_fee',\n",
       " 'admission_price',\n",
       " 'admissioned',\n",
       " 'admissioning',\n",
       " 'admissions',\n",
       " 'admittance',\n",
       " 'entrance_fee',\n",
       " 'entrance_money',\n",
       " 'entree',\n",
       " 'price_of_admission']"
      ]
     },
     "execution_count": 5,
     "metadata": {},
     "output_type": "execute_result"
    }
   ],
   "source": [
    "similar_words"
   ]
  }
 ],
 "metadata": {
  "kernelspec": {
   "display_name": "northwestern-university-reddit-sentiment-a-p8YxfkNH-py3.11",
   "language": "python",
   "name": "python3"
  },
  "language_info": {
   "codemirror_mode": {
    "name": "ipython",
    "version": 3
   },
   "file_extension": ".py",
   "mimetype": "text/x-python",
   "name": "python",
   "nbconvert_exporter": "python",
   "pygments_lexer": "ipython3",
   "version": "3.11.5"
  }
 },
 "nbformat": 4,
 "nbformat_minor": 2
}
